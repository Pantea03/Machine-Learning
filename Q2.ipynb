{
  "cells": [
    {
      "cell_type": "markdown",
      "metadata": {
        "id": "ChC3RF8meAlK"
      },
      "source": [
        "<h1 align=\"center\">Introduction to Machine Learning - 25737-2</h1>\n",
        "<h4 align=\"center\">Dr. R. Amiri</h4>\n",
        "<h4 align=\"center\">Sharif University of Technology, Spring 2024</h4>\n",
        "\n",
        "\n",
        "**<font color='red'>Plagiarism is strongly prohibited!</font>**\n",
        "\n",
        "\n",
        "**Student Name**: Pantea Amoie\n",
        "\n",
        "**Student ID**: 400101656\n",
        "\n",
        "\n",
        "\n"
      ]
    },
    {
      "cell_type": "markdown",
      "metadata": {
        "id": "IraiR0SbeDi_"
      },
      "source": [
        "# Logistic Regression"
      ]
    },
    {
      "cell_type": "markdown",
      "metadata": {
        "id": "nRQjwWC3eDnc"
      },
      "source": [
        "**Task:** Implement your own Logistic Regression model, and test it on the given dataset of Logistic_question.csv!"
      ]
    },
    {
      "cell_type": "code",
      "execution_count": 10,
      "metadata": {
        "id": "f_vL5Rp1UqCG"
      },
      "outputs": [],
      "source": [
        "import torch\n",
        "import torch.nn.functional as F\n",
        "import numpy as np\n",
        "import pandas as pd\n",
        "from sklearn.model_selection import train_test_split\n",
        "from sklearn.preprocessing import StandardScaler\n",
        "from sklearn.metrics import accuracy_score, precision_score, recall_score, f1_score\n",
        "from sklearn.linear_model import LogisticRegression\n",
        "from sklearn.model_selection import train_test_split, GridSearchCV\n",
        "from sklearn.preprocessing import StandardScaler, OneHotEncoder\n",
        "from sklearn.compose import ColumnTransformer\n",
        "from sklearn.pipeline import Pipeline\n",
        "from sklearn.impute import SimpleImputer\n",
        "from torch.utils.data import DataLoader, TensorDataset\n",
        "from sklearn.base import BaseEstimator, ClassifierMixin\n"
      ]
    },
    {
      "cell_type": "code",
      "execution_count": 17,
      "metadata": {
        "id": "hBSyX7cJUqCH"
      },
      "outputs": [],
      "source": [
        "class MyLogisticRegression:\n",
        "    def __init__(self, learning_rate=0.01, number_of_iterations=1000):\n",
        "        self.learning_rate = learning_rate\n",
        "        self.number_of_iterations = number_of_iterations\n",
        "        self.w = None\n",
        "        self.b = None\n",
        "\n",
        "    def loss_function(self, x, y):\n",
        "        a = torch.matmul(x, self.w) + self.b\n",
        "        mu = torch.sigmoid(a)\n",
        "        nll = -torch.mean(y * torch.log(mu) + (1 - y) * torch.log(1 - mu))\n",
        "        return nll\n",
        "\n",
        "    def fit_function(self, x, y):\n",
        "        number_of_samples, number_of_features = x.shape\n",
        "        self.w = torch.zeros(number_of_features, 1, dtype=torch.float32, requires_grad=True)\n",
        "        self.b = torch.zeros(1, dtype=torch.float32, requires_grad=True)\n",
        "\n",
        "        for _ in range(self.number_of_iterations):\n",
        "            a = torch.matmul(x, self.w) + self.b\n",
        "            mu = torch.sigmoid(a)\n",
        "            loss = self.loss_function(x, y)\n",
        "            # for computing gradients:\n",
        "            loss.backward()\n",
        "\n",
        "            with torch.no_grad():\n",
        "                self.w -= self.learning_rate * self.w.grad\n",
        "                self.b -= self.learning_rate * self.b.grad\n",
        "\n",
        "            self.w.grad.zero_()\n",
        "            self.b.grad.zero_()\n",
        "\n",
        "    def predict_function(self, x):\n",
        "        a = torch.matmul(x, self.w) + self.b\n",
        "        mu = torch.sigmoid(a)\n",
        "        predicted_y = [1 if m >= 0.5 else 0 for m in mu]\n",
        "        return predicted_y\n"
      ]
    },
    {
      "cell_type": "markdown",
      "metadata": {
        "id": "S-i-oubUlZ6e"
      },
      "source": [
        "**Task:** Test your model on the given dataset. You must split your data into train and test, with a 0.2 split, then normalize your data using X_train data. Finally, report 4 different evaluation metrics of the model on the test set. (You might want to first make the Target column binary!)"
      ]
    },
    {
      "cell_type": "code",
      "execution_count": null,
      "metadata": {
        "colab": {
          "base_uri": "https://localhost:8080/"
        },
        "id": "0KXzIy_2u-pG",
        "outputId": "4c9b3ddf-3a21-4dc9-a6d0-28a85ed38717"
      },
      "outputs": [
        {
          "output_type": "stream",
          "name": "stdout",
          "text": [
            "Accuracy:  0.875\n",
            "Precision:  0.875\n",
            "Recall:  1.0\n",
            "F1 Score:  0.9333333333333333\n"
          ]
        }
      ],
      "source": [
        "data = pd.read_csv('Logistic_question.csv')\n",
        "X = data.drop(columns=['Target']).values\n",
        "y = data['Target'].values\n",
        "\n",
        "# Make the target column binary\n",
        "y_binary = np.where(y > 0.5, 1, 0)\n",
        "\n",
        "# Split data into train and test sets with a 0.2 split\n",
        "X_train, X_test, y_train, y_test = train_test_split(X, y_binary, test_size=0.2, random_state=42)\n",
        "\n",
        "# Normalize our data using X_train data\n",
        "scaler = StandardScaler()\n",
        "normalized_X_train = scaler.fit_transform(X_train)\n",
        "normalized_X_test = scaler.transform(X_test)\n",
        "\n",
        "# Convert data to PyTorch tensors with dtype=torch.float32\n",
        "X_train_tensor = torch.tensor(normalized_X_train, dtype=torch.float32)\n",
        "y_train_tensor = torch.tensor(y_train.ravel(), dtype=torch.float32)\n",
        "\n",
        "# Train the model\n",
        "model = MyLogisticRegression()\n",
        "model.fit_function(X_train_tensor, y_train_tensor)\n",
        "\n",
        "# Predict on the test set\n",
        "y_predicted = np.array(model.predict_function(torch.tensor(normalized_X_test, dtype=torch.float32)))\n",
        "\n",
        "# Evaluation metrices\n",
        "accuracy = accuracy_score(y_test, y_predicted)\n",
        "precision = precision_score(y_test, y_predicted)\n",
        "recall = recall_score(y_test, y_predicted)\n",
        "f1_sc = f1_score(y_test, y_predicted)\n",
        "\n",
        "# Report evaluation metrics\n",
        "print(\"Accuracy: \", accuracy)\n",
        "print(\"Precision: \", precision)\n",
        "print(\"Recall: \", recall)\n",
        "print(\"F1 Score: \", f1_sc)"
      ]
    },
    {
      "cell_type": "markdown",
      "metadata": {
        "id": "Ji0RXNGKv1pa"
      },
      "source": [
        "**Question:** What are each of your used evaluation metrics? And for each one, mention situations in which they convey more data on the model performance in specific tasks."
      ]
    },
    {
      "cell_type": "markdown",
      "metadata": {
        "id": "ldveD35twRRZ"
      },
      "source": [
        "**Your answer:**\\\n",
        "1-Accuracy:\n",
        "Accuracy measures the proportion of correctly predicted instances out of the total instances.\n",
        "It provides an overall assessment of the model's correctness.\n",
        "It's useful when the classes are balanced, meaning there are roughly equal numbers of instances for each class. In such cases, accuracy gives a good representation of the model's performance.\\\n",
        "2-Precision:\n",
        "Precision measures the proportion of true positive predictions out of all positive predictions made by the model.\n",
        "It indicates the ability of the model to correctly identify positive instances without misclassifying negatives.\n",
        "Precision is particularly important in tasks where the cost of false positives is high. For example, in spam email detection, it's crucial to have high precision to avoid misclassifying non-spam emails as spam.\\\n",
        "3-Recall (Sensitivity):\n",
        "Recall measures the proportion of true positive predictions out of all actual positive instances in the dataset.\n",
        "It indicates the ability of the model to capture all positive instances without missing any.\n",
        "Recall is essential in tasks where it's crucial to detect all positive instances, even at the cost of some false positives. For example, in disease diagnosis, high recall ensures that all actual cases of the disease are detected, even if it means some healthy individuals are classified as positive.\\\n",
        "4-F1 Score:\n",
        "The F1 score is the harmonic mean of precision and recall. It balances between precision and recall.\n",
        "It provides a single metric that considers both false positives and false negatives.\n",
        "The F1 score is useful when there is an imbalance between the classes or when both false positives and false negatives are important. It provides a compromise between precision and recall.\n",
        "It's commonly used in binary classification tasks where there is an uneven class distribution.\n"
      ]
    },
    {
      "cell_type": "markdown",
      "metadata": {
        "id": "1ZCeRHZSw-mh"
      },
      "source": [
        "**Task:** Now test the built-in function of Python for Logistic Regression, and report all the same metrics used before."
      ]
    },
    {
      "cell_type": "code",
      "execution_count": null,
      "metadata": {
        "colab": {
          "base_uri": "https://localhost:8080/"
        },
        "id": "Vb5lRSQXDLR3",
        "outputId": "0b659774-e79d-4a3a-ac7a-e2faecfc025c"
      },
      "outputs": [
        {
          "output_type": "stream",
          "name": "stdout",
          "text": [
            "Accuracy: 0.95\n",
            "Precision: 0.9459459459459459\n",
            "Recall: 1.0\n",
            "F1 Score: 0.9722222222222222\n"
          ]
        }
      ],
      "source": [
        "data = pd.read_csv('Logistic_question.csv')\n",
        "X = data.drop(columns=['Target']).values\n",
        "y = data['Target'].values\n",
        "\n",
        "y = np.where(y > 0.5, 1, 0)\n",
        "\n",
        "# Split the data into train and test sets\n",
        "X_train, X_test, y_train, y_test = train_test_split(X, y, test_size=0.2, random_state=42)\n",
        "\n",
        "# Normalize the data using StandardScaler\n",
        "scaler = StandardScaler()\n",
        "X_train_normalized = scaler.fit_transform(X_train)\n",
        "X_test_normalized = scaler.transform(X_test)\n",
        "\n",
        "# Convert to PyTorch tensors\n",
        "X_train_tensor = torch.tensor(X_train_normalized, dtype=torch.float64)\n",
        "y_train_tensor = torch.tensor(y_train.ravel(), dtype=torch.float64)\n",
        "# Fit the model\n",
        "model = LogisticRegression()\n",
        "model.fit(X_train_tensor, y_train_tensor)\n",
        "\n",
        "# Convert to PyTorch tensor\n",
        "X_test_tensor = torch.tensor(X_test_normalized, dtype=torch.float64)\n",
        "\n",
        "# Predict the test set\n",
        "predictions = model.predict(X_test_tensor)\n",
        "\n",
        "# Evaluation metrics\n",
        "accuracy = accuracy_score(y_test, predictions)\n",
        "precision = precision_score(y_test, predictions)\n",
        "recall = recall_score(y_test, predictions)\n",
        "f1 = f1_score(y_test, predictions)\n",
        "print(\"Accuracy:\", accuracy)\n",
        "print(\"Precision:\", precision)\n",
        "print(\"Recall:\", recall)\n",
        "print(\"F1 Score:\", f1)\n"
      ]
    },
    {
      "cell_type": "markdown",
      "metadata": {
        "id": "RCvIymmMy_ji"
      },
      "source": [
        "**Question:** Compare your function with the built-in function. On the matters of performance and parameters. Briefly explain what the parameters of the built-in function are and how they affect the model's performance?"
      ]
    },
    {
      "cell_type": "markdown",
      "metadata": {
        "id": "EY0ohM16z3De"
      },
      "source": [
        "**Your answer:**\\\n",
        "Accuracy:My implementation achieved an accuracy of 0.875, while the built-in function yielded an accuracy of 0.95.\n",
        "The built-in function's accuracy is higher, indicating that it made fewer incorrect predictions compared to my implementation.\\\n",
        "Precision:\n",
        "Again, my implementation achieved an accuracy of 0.875, while the built-in function yielded an accuracy of about 0.95, which indicates that the built in model has a better ability to correctly identify positive instances and has a lower rate of false positive predictions.\\\n",
        "Recall:\n",
        "Both implementations achieved a recall of 1.0.\n",
        "Both models were able to correctly identify all positive instances in the test set.\\\n",
        "F1 Score:\n",
        "My implementation yielded an F1 score of 0.9333, while the built-in function produced an F1 score of 0.9722.\n",
        "The built-in function's F1 score is a bit higher, indicating better overall\n",
        "performance in terms of balancing precision and recall.\n",
        "\n",
        "Paramters of the built-in LogisticRegression:\\\n",
        "penalty:\n",
        "Specifies the type of regularization used in the model. It can be set to 'l1' or 'l2'. Regularization helps prevent overfitting by penalizing large coefficients. 'l1' regularization encourages sparsity in the coefficients, while 'l2' regularization penalizes large coefficients more smoothly.\\\n",
        "C:\n",
        "Inverse of regularization strength. Smaller values specify stronger regularization, meaning stronger penalties are applied to large coefficients.\n",
        "Larger values of C result in less regularization, allowing the model to fit the training data more closely, potentially leading to overfitting.\\\n",
        "solver:\n",
        "Algorithm to use in the optimization problem. The choice of solver affects the computational efficiency and convergence behavior of the model.\n",
        "Common choices include 'liblinear', 'newton-cg', 'lbfgs', 'sag', and 'saga'.\n",
        "For small datasets, 'liblinear' is a good choice, while 'sag' and 'saga' are suitable for large datasets.\\\n",
        "class_weight:\n",
        "Specifies the weights associated with each class. This is useful for handling imbalanced datasets.\n",
        "By default, all classes are treated equally (None). Setting this parameter to 'balanced' automatically adjusts the weights inversely proportional to class frequencies in the input data.\\\n",
        "max_iter:\n",
        "Maximum number of iterations for the optimization algorithm to converge.\n",
        "If the algorithm does not converge within the specified number of iterations, it may not find the optimal solution.\\\n",
        "multi_class:\n",
        "Determines how the model handles multiclass classification problems. It can be set to 'ovr' (one-vs-rest) or 'multinomial' (softmax regression).\n",
        "'ovr' trains a separate binary classifier for each class, while 'multinomial' optimizes a single softmax model over all classes simultaneously.\\\n",
        "random_state:\n",
        "Seed used by the random number generator. Provides reproducibility for experiments by ensuring that the same results are obtained each time the model is trained."
      ]
    },
    {
      "cell_type": "markdown",
      "metadata": {
        "id": "ClMqoYlr2kr7"
      },
      "source": [
        "# Multinomial Logistic Regression"
      ]
    },
    {
      "cell_type": "markdown",
      "metadata": {
        "id": "ukvlqDe52xP5"
      },
      "source": [
        "**Task:** Implement your own Multinomial Logistic Regression model. Your model must be able to handle any number of labels!"
      ]
    },
    {
      "cell_type": "code",
      "execution_count": null,
      "metadata": {
        "id": "5Ir-_hFt286t"
      },
      "outputs": [],
      "source": [
        "import torch\n",
        "\n",
        "class MyMultinomialLogisticRegression:\n",
        "    def __init__(self, learning_rate=0.01, number_of_iterations=1000):\n",
        "        self.learning_rate = learning_rate\n",
        "        self.number_of_iterations = number_of_iterations\n",
        "        self.W = None\n",
        "        self.b = None\n",
        "\n",
        "    def loss_function(self, x, y):\n",
        "        a = torch.matmul(x, self.W) + self.b\n",
        "        exp_scores = torch.exp(a)\n",
        "        probs = exp_scores / torch.sum(exp_scores, dim=1, keepdim=True)\n",
        "        nll = -torch.mean(torch.log(probs[torch.arange(len(y)), y]))\n",
        "        return nll\n",
        "\n",
        "    def fit_function(self, x, y):\n",
        "        number_of_samples, number_of_features = x.shape\n",
        "        # Convert y to a PyTorch tensor\n",
        "        number_of_classes = torch.max(torch.tensor(y)) + 1\n",
        "        self.W = torch.zeros(number_of_features, number_of_classes, dtype=torch.float32, requires_grad=True)\n",
        "        self.b = torch.zeros(1, number_of_classes, dtype=torch.float32, requires_grad=True)\n",
        "\n",
        "        x = torch.tensor(x, dtype=torch.float32)\n",
        "        for _ in range(self.number_of_iterations):\n",
        "            a = torch.matmul(x, self.W) + self.b\n",
        "            exp_scores = torch.exp(a)\n",
        "            probs = exp_scores / torch.sum(exp_scores, dim=1, keepdim=True)\n",
        "\n",
        "            # Compute gradient\n",
        "            loss = self.loss_function(x, y)\n",
        "            loss.backward()\n",
        "\n",
        "            # Update parameters\n",
        "            with torch.no_grad():\n",
        "                self.W -= self.learning_rate * self.W.grad\n",
        "                self.b -= self.learning_rate * self.b.grad\n",
        "\n",
        "            self.W.grad.zero_()\n",
        "            self.b.grad.zero_()\n",
        "\n",
        "    def predict_function(self, x):\n",
        "        x = torch.tensor(x, dtype=torch.float32)\n",
        "        a = torch.matmul(x, self.W) + self.b\n",
        "        exp_scores = torch.exp(a)\n",
        "        probs = exp_scores / torch.sum(exp_scores, dim=1, keepdim=True)\n",
        "        predicted_y = torch.argmax(probs, dim=1)\n",
        "        return predicted_y\n"
      ]
    },
    {
      "cell_type": "markdown",
      "metadata": {
        "id": "zPQ3Rtay3Y2_"
      },
      "source": [
        "**Task:** Test your model on the given dataset. Do the same as the previous part, but here you might want to first make the Target column quantized into $i$ levels. Change $i$ from 2 to 10."
      ]
    },
    {
      "cell_type": "code",
      "execution_count": null,
      "metadata": {
        "id": "9aP4QJPq29B3",
        "colab": {
          "base_uri": "https://localhost:8080/"
        },
        "outputId": "df4e7680-e8ae-45e7-e70e-9491a93b2686"
      },
      "outputs": [
        {
          "output_type": "stream",
          "name": "stdout",
          "text": [
            "Testing model with i = 2\n",
            "Accuracy: 0.9250, Precision: 0.9288, Recall: 0.9250, F1 Score: 0.9245\n",
            "\n",
            "Testing model with i = 3\n",
            "Accuracy: 0.5875, Precision: 0.7823, Recall: 0.5875, F1 Score: 0.5995\n",
            "\n",
            "Testing model with i = 4\n",
            "Accuracy: 0.5875, Precision: 0.8174, Recall: 0.5875, F1 Score: 0.5526\n",
            "\n",
            "Testing model with i = 5\n",
            "Accuracy: 0.5625, Precision: 0.5566, Recall: 0.5625, F1 Score: 0.5108\n",
            "\n",
            "Testing model with i = 6\n",
            "Accuracy: 0.7375, Precision: 0.8037, Recall: 0.7375, F1 Score: 0.7337\n",
            "\n",
            "Testing model with i = 7\n",
            "Accuracy: 0.7125, Precision: 0.7240, Recall: 0.7125, F1 Score: 0.7101\n",
            "\n",
            "Testing model with i = 8\n",
            "Accuracy: 0.6500, Precision: 0.6473, Recall: 0.6500, F1 Score: 0.6405\n",
            "\n",
            "Testing model with i = 9\n",
            "Accuracy: 0.7375, Precision: 0.8011, Recall: 0.7375, F1 Score: 0.7409\n",
            "\n",
            "Testing model with i = 10\n",
            "Accuracy: 0.7000, Precision: 0.7656, Recall: 0.7000, F1 Score: 0.6904\n",
            "\n"
          ]
        }
      ],
      "source": [
        "data = pd.read_csv('Logistic_question.csv')\n",
        "\n",
        "for i in range(2, 11):\n",
        "    # Quantize the target column into i levels\n",
        "    data[f'Target_{i}_levels'] = pd.qcut(data['Target'], q=i, labels=False)\n",
        "    X = data.drop(['Target', f'Target_{i}_levels'], axis=1).values\n",
        "    y = data[f'Target_{i}_levels'].values\n",
        "\n",
        "    # Split the data\n",
        "    X_train, X_test, y_train, y_test = train_test_split(X, y, test_size=0.2, random_state=42)\n",
        "\n",
        "    # Normalizing the data\n",
        "    scaler = StandardScaler()\n",
        "    X_train_normalized = scaler.fit_transform(X_train)\n",
        "    X_test_normalized = scaler.transform(X_test)\n",
        "\n",
        "    # Training\n",
        "    model = MyMultinomialLogisticRegression()\n",
        "    model.fit_function(X_train, y_train)\n",
        "    # Predictions\n",
        "    y_predicted = np.array(model.predict_function(X_test))\n",
        "\n",
        "    # Evaluation metrics\n",
        "    accuracy = accuracy_score(y_test, y_predicted)\n",
        "    precision = precision_score(y_test, y_predicted, average='weighted', zero_division=0)\n",
        "    recall = recall_score(y_test, y_predicted, average='weighted')\n",
        "    f1_sc = f1_score(y_test, y_predicted, average='weighted')\n",
        "\n",
        "    print(f\"Testing model with i = {i}\")\n",
        "    print(f\"Accuracy: {accuracy:.4f}, Precision: {precision:.4f}, Recall: {recall:.4f}, F1 Score: {f1_sc:.4f}\\n\")"
      ]
    },
    {
      "cell_type": "markdown",
      "metadata": {
        "id": "Of2sHl5Z4dXi"
      },
      "source": [
        "**Question:** Report for which $i$ your model performs best. Describe and analyze the results! You could use visualizations or any other method!"
      ]
    },
    {
      "cell_type": "markdown",
      "metadata": {
        "id": "cRLERDAr4wnS"
      },
      "source": [
        "**Your answer:**\\\n",
        "As we can see in the plots below the model has its highest accuracy, precision, recall, and F1 score at i = 2 levels, indicating good performance in binary classification. Other than i = 2,  it seems that the model performs so well when the target column is quantized into 9 levels. This choice captures the underlying patterns well without overcomplicating the classification task. As seen below, all of the evaluation values decrease until i = 5, and then increase again, although they do not reach their high values at i = 2."
      ]
    },
    {
      "cell_type": "code",
      "source": [
        "import matplotlib.pyplot as plt\n",
        "\n",
        "i_values = list(range(2, 11))\n",
        "accuracies = [0.9250, 0.5875, 0.5875, 0.5625, 0.7375, 0.7125, 0.6500, 0.7375, 0.7000]\n",
        "precisions = [0.9288, 0.7823, 0.8174, 0.5566, 0.8037, 0.7240, 0.6473, 0.8011, 0.7656]\n",
        "recalls = [0.9250, 0.5875, 0.5875, 0.5625, 0.7375, 0.7125, 0.6500, 0.7375, 0.7000]\n",
        "f1_scores = [0.9245, 0.5995, 0.5526, 0.5108, 0.7337, 0.7101, 0.6405, 0.7409, 0.6904]\n",
        "\n",
        "\n",
        "plt.figure(figsize=(10, 8))\n",
        "# Accuracy\n",
        "plt.subplot(2, 2, 1)\n",
        "plt.plot(i_values, accuracies, marker='o', color='b')\n",
        "plt.title('Accuracy vs. Number of Levels (i)')\n",
        "plt.xlabel('Number of Levels (i)')\n",
        "plt.ylabel('Accuracy')\n",
        "\n",
        "# Precision\n",
        "plt.subplot(2, 2, 2)\n",
        "plt.plot(i_values, precisions, marker='o', color='r')\n",
        "plt.title('Precision vs. Number of Levels (i)')\n",
        "plt.xlabel('Number of Levels (i)')\n",
        "plt.ylabel('Precision')\n",
        "\n",
        "# Recall\n",
        "plt.subplot(2, 2, 3)\n",
        "plt.plot(i_values, recalls, marker='o', color='g')\n",
        "plt.title('Recall vs. Number of Levels (i)')\n",
        "plt.xlabel('Number of Levels (i)')\n",
        "plt.ylabel('Recall')\n",
        "\n",
        "# F1 Score\n",
        "plt.subplot(2, 2, 4)\n",
        "plt.plot(i_values, f1_scores, marker='o', color='purple')\n",
        "plt.title('F1 Score vs. Number of Levels (i)')\n",
        "plt.xlabel('Number of Levels (i)')\n",
        "plt.ylabel('F1 Score')\n",
        "\n",
        "plt.tight_layout()\n",
        "plt.show()\n"
      ],
      "metadata": {
        "colab": {
          "base_uri": "https://localhost:8080/",
          "height": 807
        },
        "id": "v5dwcD-2IT4V",
        "outputId": "fe331f84-4d70-4f96-a452-4b1366519f7a"
      },
      "execution_count": null,
      "outputs": [
        {
          "output_type": "display_data",
          "data": {
            "text/plain": [
              "<Figure size 1000x800 with 4 Axes>"
            ],
            "image/png": "[encoded data removed]"
          },
          "metadata": {}
        }
      ]
    },
    {
      "cell_type": "markdown",
      "metadata": {
        "id": "wT43jGKV6CBZ"
      },
      "source": [
        "# Going a little further!"
      ]
    },
    {
      "cell_type": "markdown",
      "metadata": {
        "id": "Vo9uGo0R6GZo"
      },
      "source": [
        "First we download Adult income dataset from Kaggle! In order to do this create an account on this website, and create an API. A file named kaggle.json will be downloaded to your device. Then use the following code:"
      ]
    },
    {
      "cell_type": "code",
      "execution_count": null,
      "metadata": {
        "colab": {
          "base_uri": "https://localhost:8080/",
          "height": 73
        },
        "id": "o-vrjYBF7u1E",
        "outputId": "1cfc4668-7e61-4c5b-e84b-1cdd27079a4c"
      },
      "outputs": [
        {
          "output_type": "display_data",
          "data": {
            "text/plain": [
              "<IPython.core.display.HTML object>"
            ],
            "text/html": [
              "\n",
              "     <input type=\"file\" id=\"files-422c28f9-e9fe-4c0d-94c4-0a2c4e4ba5d9\" name=\"files[]\" multiple disabled\n",
              "        style=\"border:none\" />\n",
              "     <output id=\"result-422c28f9-e9fe-4c0d-94c4-0a2c4e4ba5d9\">\n",
              "      Upload widget is only available when the cell has been executed in the\n",
              "      current browser session. Please rerun this cell to enable.\n",
              "      </output>\n",
              "      <script>// Copyright 2017 Google LLC\n",
              "//\n",
              "// Licensed under the Apache License, Version 2.0 (the \"License\");\n",
              "// you may not use this file except in compliance with the License.\n",
              "// You may obtain a copy of the License at\n",
              "//\n",
              "//      http://www.apache.org/licenses/LICENSE-2.0\n",
              "//\n",
              "// Unless required by applicable law or agreed to in writing, software\n",
              "// distributed under the License is distributed on an \"AS IS\" BASIS,\n",
              "// WITHOUT WARRANTIES OR CONDITIONS OF ANY KIND, either express or implied.\n",
              "// See the License for the specific language governing permissions and\n",
              "// limitations under the License.\n",
              "\n",
              "/**\n",
              " * @fileoverview Helpers for google.colab Python module.\n",
              " */\n",
              "(function(scope) {\n",
              "function span(text, styleAttributes = {}) {\n",
              "  const element = document.createElement('span');\n",
              "  element.textContent = text;\n",
              "  for (const key of Object.keys(styleAttributes)) {\n",
              "    element.style[key] = styleAttributes[key];\n",
              "  }\n",
              "  return element;\n",
              "}\n",
              "\n",
              "// Max number of bytes which will be uploaded at a time.\n",
              "const MAX_PAYLOAD_SIZE = 100 * 1024;\n",
              "\n",
              "function _uploadFiles(inputId, outputId) {\n",
              "  const steps = uploadFilesStep(inputId, outputId);\n",
              "  const outputElement = document.getElementById(outputId);\n",
              "  // Cache steps on the outputElement to make it available for the next call\n",
              "  // to uploadFilesContinue from Python.\n",
              "  outputElement.steps = steps;\n",
              "\n",
              "  return _uploadFilesContinue(outputId);\n",
              "}\n",
              "\n",
              "// This is roughly an async generator (not supported in the browser yet),\n",
              "// where there are multiple asynchronous steps and the Python side is going\n",
              "// to poll for completion of each step.\n",
              "// This uses a Promise to block the python side on completion of each step,\n",
              "// then passes the result of the previous step as the input to the next step.\n",
              "function _uploadFilesContinue(outputId) {\n",
              "  const outputElement = document.getElementById(outputId);\n",
              "  const steps = outputElement.steps;\n",
              "\n",
              "  const next = steps.next(outputElement.lastPromiseValue);\n",
              "  return Promise.resolve(next.value.promise).then((value) => {\n",
              "    // Cache the last promise value to make it available to the next\n",
              "    // step of the generator.\n",
              "    outputElement.lastPromiseValue = value;\n",
              "    return next.value.response;\n",
              "  });\n",
              "}\n",
              "\n",
              "/**\n",
              " * Generator function which is called between each async step of the upload\n",
              " * process.\n",
              " * @param {string} inputId Element ID of the input file picker element.\n",
              " * @param {string} outputId Element ID of the output display.\n",
              " * @return {!Iterable<!Object>} Iterable of next steps.\n",
              " */\n",
              "function* uploadFilesStep(inputId, outputId) {\n",
              "  const inputElement = document.getElementById(inputId);\n",
              "  inputElement.disabled = false;\n",
              "\n",
              "  const outputElement = document.getElementById(outputId);\n",
              "  outputElement.innerHTML = '';\n",
              "\n",
              "  const pickedPromise = new Promise((resolve) => {\n",
              "    inputElement.addEventListener('change', (e) => {\n",
              "      resolve(e.target.files);\n",
              "    });\n",
              "  });\n",
              "\n",
              "  const cancel = document.createElement('button');\n",
              "  inputElement.parentElement.appendChild(cancel);\n",
              "  cancel.textContent = 'Cancel upload';\n",
              "  const cancelPromise = new Promise((resolve) => {\n",
              "    cancel.onclick = () => {\n",
              "      resolve(null);\n",
              "    };\n",
              "  });\n",
              "\n",
              "  // Wait for the user to pick the files.\n",
              "  const files = yield {\n",
              "    promise: Promise.race([pickedPromise, cancelPromise]),\n",
              "    response: {\n",
              "      action: 'starting',\n",
              "    }\n",
              "  };\n",
              "\n",
              "  cancel.remove();\n",
              "\n",
              "  // Disable the input element since further picks are not allowed.\n",
              "  inputElement.disabled = true;\n",
              "\n",
              "  if (!files) {\n",
              "    return {\n",
              "      response: {\n",
              "        action: 'complete',\n",
              "      }\n",
              "    };\n",
              "  }\n",
              "\n",
              "  for (const file of files) {\n",
              "    const li = document.createElement('li');\n",
              "    li.append(span(file.name, {fontWeight: 'bold'}));\n",
              "    li.append(span(\n",
              "        `(${file.type || 'n/a'}) - ${file.size} bytes, ` +\n",
              "        `last modified: ${\n",
              "            file.lastModifiedDate ? file.lastModifiedDate.toLocaleDateString() :\n",
              "                                    'n/a'} - `));\n",
              "    const percent = span('0% done');\n",
              "    li.appendChild(percent);\n",
              "\n",
              "    outputElement.appendChild(li);\n",
              "\n",
              "    const fileDataPromise = new Promise((resolve) => {\n",
              "      const reader = new FileReader();\n",
              "      reader.onload = (e) => {\n",
              "        resolve(e.target.result);\n",
              "      };\n",
              "      reader.readAsArrayBuffer(file);\n",
              "    });\n",
              "    // Wait for the data to be ready.\n",
              "    let fileData = yield {\n",
              "      promise: fileDataPromise,\n",
              "      response: {\n",
              "        action: 'continue',\n",
              "      }\n",
              "    };\n",
              "\n",
              "    // Use a chunked sending to avoid message size limits. See b/62115660.\n",
              "    let position = 0;\n",
              "    do {\n",
              "      const length = Math.min(fileData.byteLength - position, MAX_PAYLOAD_SIZE);\n",
              "      const chunk = new Uint8Array(fileData, position, length);\n",
              "      position += length;\n",
              "\n",
              "      const base64 = btoa(String.fromCharCode.apply(null, chunk));\n",
              "      yield {\n",
              "        response: {\n",
              "          action: 'append',\n",
              "          file: file.name,\n",
              "          data: base64,\n",
              "        },\n",
              "      };\n",
              "\n",
              "      let percentDone = fileData.byteLength === 0 ?\n",
              "          100 :\n",
              "          Math.round((position / fileData.byteLength) * 100);\n",
              "      percent.textContent = `${percentDone}% done`;\n",
              "\n",
              "    } while (position < fileData.byteLength);\n",
              "  }\n",
              "\n",
              "  // All done.\n",
              "  yield {\n",
              "    response: {\n",
              "      action: 'complete',\n",
              "    }\n",
              "  };\n",
              "}\n",
              "\n",
              "scope.google = scope.google || {};\n",
              "scope.google.colab = scope.google.colab || {};\n",
              "scope.google.colab._files = {\n",
              "  _uploadFiles,\n",
              "  _uploadFilesContinue,\n",
              "};\n",
              "})(self);\n",
              "</script> "
            ]
          },
          "metadata": {}
        },
        {
          "output_type": "stream",
          "name": "stdout",
          "text": [
            "cp: cannot stat 'kaggle.json': No such file or directory\n",
            "chmod: cannot access '/root/.kaggle/kaggle.json': No such file or directory\n"
          ]
        }
      ],
      "source": [
        "from google.colab import files\n",
        "files.upload()  # Use this to select the kaggle.json file from your computer\n",
        "!mkdir -p ~/.kaggle\n",
        "!cp kaggle.json ~/.kaggle/\n",
        "!chmod 600 ~/.kaggle/kaggle.json"
      ]
    },
    {
      "cell_type": "markdown",
      "metadata": {
        "id": "5i6u6_1v8ftX"
      },
      "source": [
        "Then use this code to automatically download the dataset into Colab."
      ]
    },
    {
      "cell_type": "code",
      "execution_count": null,
      "metadata": {
        "id": "XjyVaVKF29Hx"
      },
      "outputs": [],
      "source": [
        "!kaggle datasets download -d wenruliu/adult-income-dataset\n",
        "!unzip /content/adult-income-dataset.zip"
      ]
    },
    {
      "cell_type": "markdown",
      "metadata": {
        "id": "EXQnbZwt8rJK"
      },
      "source": [
        "**Task:** Determine the number of null entries!"
      ]
    },
    {
      "cell_type": "code",
      "execution_count": 6,
      "metadata": {
        "colab": {
          "base_uri": "https://localhost:8080/"
        },
        "id": "JtuEx6QW29c1",
        "outputId": "450cb134-33b3-4691-8ffe-6bc024948049"
      },
      "outputs": [
        {
          "output_type": "stream",
          "name": "stdout",
          "text": [
            "Total number of null entries: 6465\n",
            "Number of null entries for each column:\n",
            "age                   0\n",
            "workclass          2799\n",
            "fnlwgt                0\n",
            "education             0\n",
            "educational-num       0\n",
            "marital-status        0\n",
            "occupation         2809\n",
            "relationship          0\n",
            "race                  0\n",
            "gender                0\n",
            "capital-gain          0\n",
            "capital-loss          0\n",
            "hours-per-week        0\n",
            "native-country      857\n",
            "income                0\n",
            "dtype: int64\n"
          ]
        }
      ],
      "source": [
        "data = pd.read_csv(\"adult.csv\")\n",
        "data.replace(\"?\", pd.NA, inplace=True)\n",
        "col_null_number = data.isnull().sum()\n",
        "total_null_entries = col_null_number.sum()\n",
        "print(\"Total number of null entries:\", total_null_entries)\n",
        "print(\"Number of null entries for each column:\")\n",
        "print(col_null_number)"
      ]
    },
    {
      "cell_type": "markdown",
      "metadata": {
        "id": "JpEcBdTUAYVN"
      },
      "source": [
        "**Question:** In many widely used datasets there are a lot of null entries. Propose 5 methods by which, one could deal with this problem. Briefly explain how do you decide which one to use in this problem."
      ]
    },
    {
      "cell_type": "markdown",
      "metadata": {
        "id": "l1u1pBHuAsSg"
      },
      "source": [
        "**Your answer:**\\\n",
        "5 methods used to deal with null entries:\\\n",
        "1-Deletion: Remove rows or columns with null values. This method is straightforward but may lead to loss of valuable information if the null values represent a significant portion of the data.\\\n",
        "2-Imputation: Fill null values with a substitute value, such as the mean, median, mode, or a constant. Imputation helps retain data but may introduce bias if the chosen substitute is not representative of the true value.\n",
        "Forward Fill or Backward Fill: Replace null values with the most recent non-null value (forward fill) or the next non-null value (backward fill) in the same column. This method is suitable for time-series data where values are ordered.\\\n",
        "3-Interpolation: Estimate missing values based on the surrounding data points. Linear interpolation, polynomial interpolation, or spline interpolation can be used depending on the nature of the data.\\\n",
        "4-Model-based Imputation: Predict missing values using machine learning algorithms such as K-nearest neighbors (KNN), decision trees, or regression. This approach can capture complex relationships in the data but requires additional computational resources and may overfit if not carefully implemented.\\\n",
        "In general: If null values are randomly distributed and represent a small fraction of the data, imputation or interpolation methods may be appropriate.\n",
        "If null values are clustered in specific columns and removing them does not significantly affect the analysis, deletion may be a simple solution.\n",
        "For time-series data with missing values, forward fill, backward fill, or interpolation techniques could be effective. In cases where the dataset is large and null values are spread across multiple columns, model-based imputation methods may provide accurate estimates.\\\n",
        "For this data, we can probably use deletion, because null values are clustered in specific columns and removing them does not significantly affect the analysis, but imputation sounds like a better and more accurate method for this dataset. Given that the null values are only in categorical columns, imputing with the mode also seems like a reasonable and straightforward approach. For 'workclass' and 'occupation', we can replace the null values with the most frequent category in each column. For 'native-country', we can replace the null values with the most frequent country of origin."
      ]
    },
    {
      "cell_type": "markdown",
      "metadata": {
        "id": "eHhH-hkpAxFf"
      },
      "source": [
        "**Task:** Handle null entries using your best method."
      ]
    },
    {
      "cell_type": "code",
      "execution_count": 7,
      "metadata": {
        "colab": {
          "base_uri": "https://localhost:8080/"
        },
        "id": "5fVwWcjK29fk",
        "outputId": "2e538dc7-29c2-4bcd-fb85-1573ae2408f0"
      },
      "outputs": [
        {
          "output_type": "stream",
          "name": "stdout",
          "text": [
            "\n",
            "After imputation, number of null entries for each column:\n",
            "age                0\n",
            "workclass          0\n",
            "fnlwgt             0\n",
            "education          0\n",
            "educational-num    0\n",
            "marital-status     0\n",
            "occupation         0\n",
            "relationship       0\n",
            "race               0\n",
            "gender             0\n",
            "capital-gain       0\n",
            "capital-loss       0\n",
            "hours-per-week     0\n",
            "native-country     0\n",
            "income             0\n",
            "dtype: int64\n"
          ]
        }
      ],
      "source": [
        "# Impute null values with the mode for the categorical columns\n",
        "categorical_cols = ['workclass', 'occupation', 'native-country']\n",
        "for col in categorical_cols:\n",
        "    # Calculate the mode\n",
        "    mode_val = data[col].mode()[0]\n",
        "    # Replace null values with mode\n",
        "    data[col].fillna(mode_val, inplace=True)\n",
        "\n",
        "print(\"\\nAfter imputation, number of null entries for each column:\")\n",
        "print(data.isnull().sum())"
      ]
    },
    {
      "cell_type": "markdown",
      "metadata": {
        "id": "43k5cTorCJaV"
      },
      "source": [
        "**Task:** Convert categorical features to numerical values. Split the dataset with 80-20 portion. Normalize all the data using X_train. Use the built-in Logistic Regression function and GridSearchCV to train your model, and report the parameters, train and test accuracy of the best model."
      ]
    },
    {
      "cell_type": "code",
      "execution_count": 11,
      "metadata": {
        "colab": {
          "base_uri": "https://localhost:8080/"
        },
        "id": "Agj18Lcd-vyZ",
        "outputId": "9df2477f-639f-483f-d8e0-99777dbc4b04"
      },
      "outputs": [
        {
          "output_type": "stream",
          "name": "stdout",
          "text": [
            "Fitting 5 folds for each of 7 candidates, totalling 35 fits\n",
            "Best parameters found: {'classifier__C': 10}\n",
            "Train accuracy of the best model: 0.8500498490086448\n",
            "Test accuracy of the best model: 0.8559729757395844\n"
          ]
        }
      ],
      "source": [
        "categorical_cols = ['workclass', 'education', 'marital-status', 'occupation', 'relationship', 'race', 'gender', 'native-country']\n",
        "numerical_cols = ['age', 'fnlwgt', 'educational-num', 'capital-gain', 'capital-loss', 'hours-per-week']\n",
        "\n",
        "# Split the dataset with 80-20 portion\n",
        "X = data.drop(columns=['income'])\n",
        "y = data['income']\n",
        "X_train, X_test, y_train, y_test = train_test_split(X, y, test_size=0.2, random_state=42)\n",
        "\n",
        "# Perprocessing\n",
        "numerical_transformer = Pipeline(steps=[\n",
        "    ('scaler', StandardScaler())\n",
        "])\n",
        "categorical_transformer = Pipeline(steps=[\n",
        "    ('onehot', OneHotEncoder(handle_unknown='ignore'))\n",
        "])\n",
        "preprocessor = ColumnTransformer(\n",
        "    transformers=[\n",
        "        ('num', numerical_transformer, numerical_cols),\n",
        "        ('cat', categorical_transformer, categorical_cols)\n",
        "    ])\n",
        "pipeline = Pipeline(steps=[('preprocessor', preprocessor),\n",
        "                           ('classifier', LogisticRegression(max_iter=1000))])\n",
        "\n",
        "# Hyperparameters for grid search\n",
        "param_grid = {\n",
        "    # Regularization params:\n",
        "    'classifier__C': [0.001, 0.01, 0.1, 1, 10, 100, 1000],\n",
        "}\n",
        "\n",
        "# Grid search\n",
        "grid_search = GridSearchCV(pipeline, param_grid, cv=5, verbose=2, n_jobs=-1)\n",
        "grid_search.fit(X_train, y_train)\n",
        "\n",
        "print(\"Best parameters found:\", grid_search.best_params_)\n",
        "print(\"Train accuracy of the best model:\", grid_search.best_score_)\n",
        "print(\"Test accuracy of the best model:\", grid_search.best_estimator_.score(X_test, y_test))\n"
      ]
    },
    {
      "cell_type": "markdown",
      "metadata": {
        "id": "6Lzr2lqXDQ1T"
      },
      "source": [
        "**Task:** To try a different route, split X_train into $i$ parts, and train $i$ separate models on these parts. Now propose and implement 3 different *ensemble methods* to derive the global models' prediction for X_test using the results(not necessarily predictions!) of the $i$ models. Firstly, set $i=10$ to find the method with the best test accuracy(the answer is not general!). You must Use your own Logistic Regression model.(You might want to modify it a little bit for this part!)"
      ]
    },
    {
      "cell_type": "code",
      "source": [
        "class MyLogisticRegression(BaseEstimator, ClassifierMixin):\n",
        "    def __init__(self, learning_rate=0.01, number_of_iterations=1000):\n",
        "        self.learning_rate = learning_rate\n",
        "        self.number_of_iterations = number_of_iterations\n",
        "        self.w = None\n",
        "        self.b = None\n",
        "\n",
        "    def loss_function(self, x, y):\n",
        "        a = torch.matmul(x, self.w) + self.b\n",
        "        mu = torch.sigmoid(a)\n",
        "        nll = -torch.mean(y * torch.log(mu) + (1 - y) * torch.log(1 - mu))\n",
        "        return nll\n",
        "\n",
        "    def fit_function(self, x, y):\n",
        "        x_numeric = torch.tensor(x[:, :6], dtype=torch.float32)  # Assuming first 6 columns are numerical\n",
        "        y = torch.tensor(y, dtype=torch.float32)\n",
        "\n",
        "        number_of_samples, number_of_features = x_numeric.shape\n",
        "        self.w = torch.zeros(number_of_features, 1, dtype=torch.float32, requires_grad=True)\n",
        "        self.b = torch.zeros(1, dtype=torch.float32, requires_grad=True)\n",
        "\n",
        "        for _ in range(self.number_of_iterations):\n",
        "            a = torch.matmul(x_numeric, self.w) + self.b\n",
        "            mu = torch.sigmoid(a)\n",
        "            loss = self.loss_function(x_numeric, y)\n",
        "            # for computing gradients:\n",
        "            loss.backward()\n",
        "\n",
        "            with torch.no_grad():\n",
        "                self.w -= self.learning_rate * self.w.grad\n",
        "                self.b -= self.learning_rate * self.b.grad\n",
        "\n",
        "            self.w.grad.zero_()\n",
        "            self.b.grad.zero_()\n",
        "\n",
        "    def predict_function(self, x):\n",
        "        x_numeric = torch.tensor(x[:, :6], dtype=torch.float32)  # Assuming first 6 columns are numerical\n",
        "        a = torch.matmul(x_numeric, self.w) + self.b\n",
        "        mu = torch.sigmoid(a)\n",
        "        predicted_y = [1 if m >= 0.5 else 0 for m in mu]\n",
        "        return predicted_y\n",
        "\n",
        "    def predict_proba(self, x):\n",
        "        x_numeric = torch.tensor(x[:, :6], dtype=torch.float32)  # Assuming first 6 columns are numerical\n",
        "        with torch.no_grad():\n",
        "            a = torch.matmul(x_numeric, self.w) + self.b\n",
        "            mu = torch.sigmoid(a)\n",
        "        return mu.numpy()\n",
        "\n",
        "    def reset_parameters(self):\n",
        "        self.w = None\n",
        "        self.b = None\n",
        "\n",
        "# Converting numerical columns to float32\n",
        "X_train_numeric = X_train.select_dtypes(include=['float64']).astype(np.float32)\n",
        "X_test_numeric = X_test.select_dtypes(include=['float64']).astype(np.float32)\n",
        "\n",
        "# Converting target variable to numerical type\n",
        "y_train_numeric = y_train.map({'<=50K': 0, '>50K': 1})\n",
        "y_test_numeric = y_test.map({'<=50K': 0, '>50K': 1})\n",
        "\n",
        "# Split X_train into i parts\n",
        "i = 10\n",
        "X_train_splits = np.array_split(X_train_numeric.values, i)\n",
        "y_train_splits = np.array_split(y_train_numeric.values, i)\n",
        "\n",
        "# Train i separate models on these parts\n",
        "models = []\n",
        "for j in range(i):\n",
        "    model = MyLogisticRegression()\n",
        "    model.fit_function(X_train_splits[j], y_train_splits[j].reshape(-1, 1))\n",
        "    models.append(model)\n",
        "\n",
        "# Ensemble methods:\n",
        "# Voting:\n",
        "def voting_ensemble(models, X_test):\n",
        "    predictions = [model.predict_function(X_test_numeric.values) for model in models]\n",
        "    ensemble_predictions = np.array(predictions)\n",
        "    final_predictions = np.mean(ensemble_predictions, axis=0) >= 0.5\n",
        "    return final_predictions.astype(int)\n",
        "\n",
        "# Averaging:\n",
        "def averaging_ensemble(models, X_test):\n",
        "    probabilities = [model.predict_proba(X_test_numeric.values) for model in models]\n",
        "    ensemble_probabilities = np.mean(probabilities, axis=0)\n",
        "    final_predictions = ensemble_probabilities >= 0.5\n",
        "    return final_predictions.astype(int)\n",
        "\n",
        "# Stacking:\n",
        "def stacking_ensemble(models, X_test, y_test):\n",
        "    probabilities = [model.predict_proba(X_test_numeric.values) for model in models]\n",
        "    stacked_X = np.concatenate(probabilities, axis=1)\n",
        "\n",
        "    meta_learner = MyLogisticRegression()\n",
        "    meta_learner.fit_function(stacked_X, y_test_numeric.values.reshape(-1, 1))\n",
        "\n",
        "    return meta_learner.predict_function(stacked_X)\n",
        "\n",
        "# Testing the ensemble methods\n",
        "voting_predictions = voting_ensemble(models, X_test_numeric)\n",
        "averaging_predictions = averaging_ensemble(models, X_test_numeric)\n",
        "stacking_predictions = stacking_ensemble(models, X_test_numeric, y_test_numeric)\n",
        "\n",
        "# Accuracy\n",
        "def accuracy(y_true, y_pred):\n",
        "    return np.mean(y_true == y_pred)\n",
        "\n",
        "print(\"Accuracy of Voting Ensemble:\", accuracy(y_test_numeric.values, voting_predictions))\n",
        "print(\"Accuracy of Averaging Ensemble:\", accuracy(y_test_numeric.values, averaging_predictions))\n",
        "print(\"Accuracy of Stacking Ensemble:\", accuracy(y_test_numeric.values, stacking_predictions))\n"
      ],
      "metadata": {
        "colab": {
          "base_uri": "https://localhost:8080/"
        },
        "id": "sLhvuaGFRBEp",
        "outputId": "f636849c-adad-43c2-d36b-9ebf49bed1a2"
      },
      "execution_count": 18,
      "outputs": [
        {
          "output_type": "stream",
          "name": "stdout",
          "text": [
            "Accuracy of Voting Ensemble: 0.7655850138192241\n",
            "Accuracy of Averaging Ensemble: 0.7655850138192241\n",
            "Accuracy of Stacking Ensemble: 0.7655850138192241\n"
          ]
        }
      ]
    },
    {
      "cell_type": "markdown",
      "metadata": {
        "id": "9QS9HYJ5FW1T"
      },
      "source": [
        "**Question:** Explain your proposed methods and the reason you decided to use them!"
      ]
    },
    {
      "cell_type": "markdown",
      "metadata": {
        "id": "6hCBQuAeF46a"
      },
      "source": [
        "**Your answer:**\\\n",
        "Voting:\n",
        "In the voting ensemble method, each model's prediction (binary in this case) is considered as a vote. The final prediction is determined by majority voting. If the majority of models predict one class, then that class is chosen as the final prediction.\n",
        "This method is chosen for its simplicity and effectiveness in reducing overfitting. By aggregating predictions from multiple models, we can reduce the impact of individual model biases and errors, potentially resulting in a more robust prediction.\\\n",
        "Averaging:\n",
        "In the averaging ensemble method, predictions from all models are averaged. In the case of binary classification, this means averaging the probability scores output by each model and rounding the result to obtain the final prediction.\n",
        "Averaging helps in reducing variance and smoothing out predictions. It can mitigate the influence of outliers or poorly performing models, leading to more stable and reliable predictions.\\\n",
        "Stacking:\n",
        "Stacking is a more advanced ensemble technique where instead of directly combining predictions, we use them as features for another model (meta-model). Here, the predictions of individual models on the training set are used as features, and then a meta-model (in this case, another logistic regression model) is trained on these features to make the final prediction.\n",
        "Stacking allows the meta-model to learn the optimal way to combine the predictions of base models. It can capture more complex relationships between the predictions and the target variable, potentially leading to improved performance compared to simple averaging or voting."
      ]
    },
    {
      "cell_type": "markdown",
      "metadata": {
        "id": "jjSREvg4FTHf"
      },
      "source": [
        "**Task:** Now, for your best method, change $i$ from 2 to 100 and report $i$, train and test accuracy of the best model. Also, plot test and train accuracy for $2\\leq i\\leq100$."
      ]
    },
    {
      "cell_type": "code",
      "source": [],
      "metadata": {
        "id": "Lqw8xJ0Er85s"
      },
      "execution_count": null,
      "outputs": []
    },
    {
      "cell_type": "code",
      "execution_count": 23,
      "metadata": {
        "id": "tfKS-Jq0-v4P",
        "colab": {
          "base_uri": "https://localhost:8080/",
          "height": 599
        },
        "outputId": "ec4544e3-a4a4-4a8a-c266-553a1b6cd63f"
      },
      "outputs": [
        {
          "output_type": "display_data",
          "data": {
            "text/plain": [
              "<Figure size 1000x600 with 1 Axes>"
            ],
            "image/png": "[encoded data removed]"
          },
          "metadata": {}
        },
        {
          "output_type": "stream",
          "name": "stdout",
          "text": [
            "Best value of i: 2\n",
            "Test accuracy of the best model: 0.7655850138192241\n"
          ]
        }
      ],
      "source": [
        "best_accuracy = 0\n",
        "best_i = 0\n",
        "train_accuracies = []\n",
        "test_accuracies = []\n",
        "\n",
        "# Because it takes a long time to run the code with the 99 different i's, we set a step size = 5 for it\n",
        "step_size = 10\n",
        "for i in range(2, 101, step_size):\n",
        "\n",
        "    # Split X_train into i parts\n",
        "    X_train_splits = np.array_split(X_train_numeric.values, i)\n",
        "    y_train_splits = np.array_split(y_train_numeric.values, i)\n",
        "\n",
        "    # Train i separate models on these parts\n",
        "    models = []\n",
        "    for j in range(i):\n",
        "        model = MyLogisticRegression(number_of_iterations=500)  # Reduced number of iterations\n",
        "        model.fit_function(X_train_splits[j], y_train_splits[j].reshape(-1, 1))\n",
        "        models.append(model)\n",
        "\n",
        "    # Ensemble methods\n",
        "    voting_predictions = voting_ensemble(models, X_test_numeric)\n",
        "    test_accuracy = accuracy(y_test_numeric.values, voting_predictions)\n",
        "    test_accuracies.append(test_accuracy)\n",
        "\n",
        "    # Accuracy\n",
        "    train_accuracy = np.mean([accuracy(y_train_splits[j], model.predict_function(X_train_splits[j])) for j, model in enumerate(models)])\n",
        "    train_accuracies.append(train_accuracy)\n",
        "\n",
        "    # Update best model if the new test accuracy is higher\n",
        "    if test_accuracy > best_accuracy:\n",
        "        best_accuracy = test_accuracy\n",
        "        best_i = i\n",
        "\n",
        "plt.figure(figsize=(10, 6))\n",
        "plt.plot(range(2, 101, step_size), train_accuracies, label='Train Accuracy')\n",
        "plt.plot(range(2, 101, step_size), test_accuracies, label='Test Accuracy')\n",
        "plt.xlabel('Number of Models (i)')\n",
        "plt.ylabel('Accuracy')\n",
        "plt.title('Train and Test Accuracy vs. Number of Models (i)')\n",
        "plt.legend()\n",
        "plt.grid(True)\n",
        "plt.show()\n",
        "\n",
        "print(\"Best value of i:\", best_i)\n",
        "print(\"Test accuracy of the best model:\", best_accuracy)\n"
      ]
    },
    {
      "cell_type": "markdown",
      "metadata": {
        "id": "BWV0YUgRGg1p"
      },
      "source": [
        "**Question:** Analyze the results."
      ]
    },
    {
      "cell_type": "markdown",
      "metadata": {
        "id": "hxWMQGDFUqCP"
      },
      "source": [
        "**Your Answer:**\\\n",
        "Generally, as the number of models (i) increases, the train accuracy tends to increase initially.\n",
        "However, above a certain point, adding more models may not significantly improve the train accuracy, and it might even start to decrease due to overfitting.\\\n",
        "Test accuracy tends to follow a similar trend to train accuracy initially, increasing with the number of models.\n",
        "However, unlike train accuracy, test accuracy provides a more reliable measure of model generalization to unseen data.\n",
        "At some point, increasing the number of models may lead to diminishing returns in test accuracy, indicating that adding more models does not necessarily improve model performance on unseen data. \\\n",
        "The optimal value of i keeps a balance between model complexity (number of models) and generalization performance.\n",
        "Further increasing the number of models may lead to overfitting and reduced generalization performance.\n",
        "Increasing the number of models (i) adds complexity to the ensemble, which may lead to better performance on the training data but could also increase the risk of overfitting.\n",
        "It's essential to consider this trade-off when selecting the optimal number of models for the ensemble."
      ]
    },
    {
      "cell_type": "code",
      "source": [],
      "metadata": {
        "id": "0CGQNNa7ryKr"
      },
      "execution_count": null,
      "outputs": []
    }
  ],
  "metadata": {
    "colab": {
      "provenance": []
    },
    "kernelspec": {
      "display_name": "Python 3 (ipykernel)",
      "language": "python",
      "name": "python3"
    },
    "language_info": {
      "codemirror_mode": {
        "name": "ipython",
        "version": 3
      },
      "file_extension": ".py",
      "mimetype": "text/x-python",
      "name": "python",
      "nbconvert_exporter": "python",
      "pygments_lexer": "ipython3",
      "version": "3.9.13"
    }
  },
  "nbformat": 4,
  "nbformat_minor": 0
}